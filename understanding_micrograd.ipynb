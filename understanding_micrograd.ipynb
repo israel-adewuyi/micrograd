{
  "cells": [
    {
      "cell_type": "markdown",
      "metadata": {
        "id": "view-in-github",
        "colab_type": "text"
      },
      "source": [
        "<a href=\"https://colab.research.google.com/github/israel-adewuyi/micrograd/blob/main/understanding_micrograd.ipynb\" target=\"_parent\"><img src=\"https://colab.research.google.com/assets/colab-badge.svg\" alt=\"Open In Colab\"/></a>"
      ]
    },
    {
      "cell_type": "code",
      "execution_count": 1,
      "metadata": {
        "id": "m0ih6_AULPCh"
      },
      "outputs": [],
      "source": [
        "import math\n",
        "import numpy as np\n",
        "import matplotlib.pyplot as plt\n",
        "%matplotlib inline"
      ]
    },
    {
      "cell_type": "code",
      "execution_count": 2,
      "metadata": {
        "id": "tVbiAqxbLPCk"
      },
      "outputs": [],
      "source": [
        "def f1(x):\n",
        "    return 3*x**2 - 4 * x - 5"
      ]
    },
    {
      "cell_type": "code",
      "execution_count": 3,
      "metadata": {
        "colab": {
          "base_uri": "https://localhost:8080/",
          "height": 447
        },
        "id": "LPHe5mgyLPCk",
        "outputId": "90286f47-7ef7-4ceb-a745-55d73d7a5274"
      },
      "outputs": [
        {
          "output_type": "execute_result",
          "data": {
            "text/plain": [
              "[<matplotlib.lines.Line2D at 0x7b9b1a8569e0>]"
            ]
          },
          "metadata": {},
          "execution_count": 3
        },
        {
          "output_type": "display_data",
          "data": {
            "text/plain": [
              "<Figure size 640x480 with 1 Axes>"
            ],
            "image/png": "[encoded data removed]"
          },
          "metadata": {}
        }
      ],
      "source": [
        "xs = np.arange(-5, 5, 0.25)\n",
        "ys = f1(xs)\n",
        "plt.plot(xs, ys)"
      ]
    },
    {
      "cell_type": "code",
      "execution_count": 4,
      "metadata": {
        "colab": {
          "base_uri": "https://localhost:8080/"
        },
        "id": "JGVMGEIILPCl",
        "outputId": "403388b3-d16a-47b2-dc8f-16dbb54dd984"
      },
      "outputs": [
        {
          "output_type": "execute_result",
          "data": {
            "text/plain": [
              "-27.999999616667992"
            ]
          },
          "metadata": {},
          "execution_count": 4
        }
      ],
      "source": [
        "h = 0.0000001\n",
        "x = -4\n",
        "\n",
        "\n",
        "(f1(x + h) - f1(x)) / h"
      ]
    },
    {
      "cell_type": "code",
      "execution_count": 5,
      "metadata": {
        "colab": {
          "base_uri": "https://localhost:8080/"
        },
        "id": "n9JghHMRLPCl",
        "outputId": "4bae5d86-cdb5-448a-e9a9-3d3eac3df300"
      },
      "outputs": [
        {
          "output_type": "stream",
          "name": "stdout",
          "text": [
            "4.0\n"
          ]
        }
      ],
      "source": [
        "a = 2.0\n",
        "b = -3.0\n",
        "c = 10\n",
        "d = (a * b) + c\n",
        "print(d)"
      ]
    },
    {
      "cell_type": "code",
      "execution_count": 6,
      "metadata": {
        "colab": {
          "base_uri": "https://localhost:8080/"
        },
        "id": "RchKdRj2LPCl",
        "outputId": "b2d947f7-9f8d-4c7e-8293-b4fda8c426be"
      },
      "outputs": [
        {
          "output_type": "stream",
          "name": "stdout",
          "text": [
            "d1 4.0\n",
            "dd/da -3.000000000419334\n",
            "dd/db 2.000000000279556\n",
            "dd/dc 0.9999999992515995\n"
          ]
        }
      ],
      "source": [
        "h = 0.000001\n",
        "\n",
        "a = 2.0\n",
        "b = -3.0\n",
        "c = 10\n",
        "\n",
        "\n",
        "d1 = (a * b) + c\n",
        "\n",
        "d2 = ((a + h) * b) + c\n",
        "\n",
        "d3 = (a * (b + h)) + c\n",
        "\n",
        "d4 = (a * b) + (c + h)\n",
        "\n",
        "print('d1', d1)\n",
        "print('dd/da', (d2 - d1) / h)\n",
        "print('dd/db', (d3 - d1) / h)\n",
        "print('dd/dc', (d4 - d1) / h)"
      ]
    },
    {
      "cell_type": "code",
      "execution_count": 78,
      "metadata": {
        "id": "-z7kxUnfLPCm"
      },
      "outputs": [],
      "source": [
        "class Value:\n",
        "    def __init__(self, data, _children=(), _op='', label=''):\n",
        "        self.data = data\n",
        "        self.grad = 0.0\n",
        "        self._backward = lambda: None\n",
        "        self._prev = set(_children)\n",
        "        self._op = _op\n",
        "        self.label = label\n",
        "\n",
        "    def __repr__(self):\n",
        "        return f\"Value(data={self.data})\"\n",
        "\n",
        "    def __add__(self, other):\n",
        "        other = other if isinstance(other, Value) else Value(other)\n",
        "        out =  Value(self.data + other.data, (self, other), '+')\n",
        "\n",
        "        def _backward():\n",
        "          self.grad += 1.0 * out.grad\n",
        "          other.grad += 1.0 * out.grad\n",
        "        out._backward = _backward\n",
        "\n",
        "        return out\n",
        "\n",
        "    def __radd__(self, other):\n",
        "      return self + other\n",
        "\n",
        "    def __rsub__(self, other):\n",
        "      return other - self\n",
        "\n",
        "    def __neg__(self): # -self\n",
        "      return self * -1\n",
        "\n",
        "    def __sub__(self, other): # self - other\n",
        "      other = other if isinstance(other, Value) else Value(other)\n",
        "      return self + (-other)\n",
        "\n",
        "    def __mul__(self, other):\n",
        "        other = other if isinstance(other, Value) else Value(other)\n",
        "        out =  Value(self.data * other.data, (self, other), '*')\n",
        "\n",
        "        def _backward():\n",
        "          self.grad += other.data * out.grad\n",
        "          other.grad += self.data * out.grad\n",
        "        out._backward = _backward\n",
        "\n",
        "        return out\n",
        "\n",
        "    def __rmul__(self, other):\n",
        "      return self * other\n",
        "\n",
        "    def __truediv__(self, other):\n",
        "      return self * other**-1\n",
        "\n",
        "    def __pow__(self, other):\n",
        "      assert isinstance(other, (int, float)), \"only supporting int/float powers for now\"\n",
        "      out = Value(self.data**other, (self,), f'**{other}')\n",
        "\n",
        "      def _backward():\n",
        "          self.grad += other * (self.data ** (other - 1)) * out.grad\n",
        "      out._backward = _backward\n",
        "\n",
        "      return out\n",
        "\n",
        "    def exp(self):\n",
        "      x = self.data\n",
        "      out = Value(math.exp(x), (self, ), 'exp')\n",
        "\n",
        "      def _backward():\n",
        "        self.grad = out.data * out.grad\n",
        "      out._backward = _backward\n",
        "\n",
        "      return out\n",
        "\n",
        "    def tanh(self):\n",
        "      x = self.data\n",
        "      t = (math.exp(2*x) - 1) / (math.exp(2*x) + 1)\n",
        "      out = Value(t, (self, ), 'tanh')\n",
        "\n",
        "      def _backward():\n",
        "        self.grad += (1 - t**2) * out.grad\n",
        "      out._backward = _backward\n",
        "      return out\n",
        "\n",
        "\n",
        "    def backward(self):\n",
        "      visited = set()\n",
        "      topo = []\n",
        "\n",
        "      def build_topo(v):\n",
        "        if v not in visited:\n",
        "          visited.add(v)\n",
        "          for child in v._prev:\n",
        "            build_topo(child)\n",
        "          topo.append(v)\n",
        "      build_topo(self)\n",
        "\n",
        "      self.grad = 1\n",
        "      for node in reversed(topo):\n",
        "        node._backward()\n"
      ]
    },
    {
      "cell_type": "code",
      "source": [
        "a = Value(5)\n",
        "b = Value(2)\n",
        "\n",
        "a - b"
      ],
      "metadata": {
        "id": "wBvkA9_meh97",
        "outputId": "24c10e80-4a0c-4f96-a33e-7826195ed915",
        "colab": {
          "base_uri": "https://localhost:8080/"
        }
      },
      "execution_count": 8,
      "outputs": [
        {
          "output_type": "execute_result",
          "data": {
            "text/plain": [
              "Value(data=3)"
            ]
          },
          "metadata": {},
          "execution_count": 8
        }
      ]
    },
    {
      "cell_type": "code",
      "execution_count": 9,
      "metadata": {
        "id": "Rvz-3AbELPCm"
      },
      "outputs": [],
      "source": [
        "from graphviz import Digraph\n",
        "\n",
        "def trace(root):\n",
        "  # builds a set of all nodes and edges in a graph\n",
        "  nodes, edges = set(), set()\n",
        "  def build(v):\n",
        "    if v not in nodes:\n",
        "      nodes.add(v)\n",
        "      for child in v._prev:\n",
        "        edges.add((child, v))\n",
        "        build(child)\n",
        "  build(root)\n",
        "  return nodes, edges\n",
        "\n",
        "def draw_dot(root):\n",
        "  dot = Digraph(format='svg', graph_attr={'rankdir': 'LR'}) # LR = left to right\n",
        "\n",
        "  nodes, edges = trace(root)\n",
        "  for n in nodes:\n",
        "    uid = str(id(n))\n",
        "    # for any value in the graph, create a rectangular ('record') node for it\n",
        "    dot.node(name = uid, label = \"{ %s | data %.4f | grad %.4f}\" % (n.label, n.data, n.grad), shape='record')\n",
        "    if n._op:\n",
        "      # if this value is a result of some operation, create an op node for it\n",
        "      dot.node(name = uid + n._op, label = n._op)\n",
        "      # and connect this node to it\n",
        "      dot.edge(uid + n._op, uid)\n",
        "\n",
        "  for n1, n2 in edges:\n",
        "    # connect n1 to the op node of n2\n",
        "    dot.edge(str(id(n1)), str(id(n2)) + n2._op)\n",
        "\n",
        "  return dot"
      ]
    },
    {
      "cell_type": "code",
      "source": [
        "# inputs x1,x2\n",
        "x1 = Value(2.0, label='x1')\n",
        "x2 = Value(0.0, label='x2')\n",
        "# weights w1,w2\n",
        "w1 = Value(-3.0, label='w1')\n",
        "w2 = Value(1.0, label='w2')\n",
        "# bias of the neuron\n",
        "b = Value(6.8813735870195432, label='b')\n",
        "# x1*w1 + x2*w2 + b\n",
        "x1w1 = x1*w1; x1w1.label = 'x1*w1'\n",
        "x2w2 = x2*w2; x2w2.label = 'x2*w2'\n",
        "x1w1x2w2 = x1w1 + x2w2; x1w1x2w2.label = 'x1*w1 + x2*w2'\n",
        "n = x1w1x2w2 + b; n.label = 'n'\n",
        "o = n.tanh(); o.label = 'o'\n",
        "o.backward()"
      ],
      "metadata": {
        "id": "PtYv9qXhObhE"
      },
      "execution_count": 10,
      "outputs": []
    },
    {
      "cell_type": "code",
      "source": [
        "draw_dot(o)"
      ],
      "metadata": {
        "id": "9wPlbUdwRm5b",
        "outputId": "00050dac-9a2c-40c6-f304-d8b8dc0582c8",
        "colab": {
          "base_uri": "https://localhost:8080/",
          "height": 321
        }
      },
      "execution_count": 11,
      "outputs": [
        {
          "output_type": "execute_result",
          "data": {
            "image/svg+xml": "<?xml version=\"1.0\" encoding=\"UTF-8\" standalone=\"no\"?>\n<!DOCTYPE svg PUBLIC \"-//W3C//DTD SVG 1.1//EN\"\n \"http://www.w3.org/Graphics/SVG/1.1/DTD/svg11.dtd\">\n<!-- Generated by graphviz version 2.43.0 (0)\n -->\n<!-- Title: %3 Pages: 1 -->\n<svg width=\"1575pt\" height=\"210pt\"\n viewBox=\"0.00 0.00 1575.00 210.00\" xmlns=\"http://www.w3.org/2000/svg\" xmlns:xlink=\"http://www.w3.org/1999/xlink\">\n<g id=\"graph0\" class=\"graph\" transform=\"scale(1 1) rotate(0) translate(4 206)\">\n<title>%3</title>\n<polygon fill=\"white\" stroke=\"transparent\" points=\"-4,4 -4,-206 1571,-206 1571,4 -4,4\"/>\n<!-- 135906099689504 -->\n<g id=\"node1\" class=\"node\">\n<title>135906099689504</title>\n<polygon fill=\"none\" stroke=\"black\" points=\"0,-165.5 0,-201.5 200,-201.5 200,-165.5 0,-165.5\"/>\n<text text-anchor=\"middle\" x=\"16.5\" y=\"-179.8\" font-family=\"Times,serif\" font-size=\"14.00\">w1</text>\n<polyline fill=\"none\" stroke=\"black\" points=\"33,-165.5 33,-201.5 \"/>\n<text text-anchor=\"middle\" x=\"75.5\" y=\"-179.8\" font-family=\"Times,serif\" font-size=\"14.00\">data &#45;3.0000</text>\n<polyline fill=\"none\" stroke=\"black\" points=\"118,-165.5 118,-201.5 \"/>\n<text text-anchor=\"middle\" x=\"159\" y=\"-179.8\" font-family=\"Times,serif\" font-size=\"14.00\">grad 1.0000</text>\n</g>\n<!-- 135906060622176* -->\n<g id=\"node13\" class=\"node\">\n<title>135906060622176*</title>\n<ellipse fill=\"none\" stroke=\"black\" cx=\"263\" cy=\"-128.5\" rx=\"27\" ry=\"18\"/>\n<text text-anchor=\"middle\" x=\"263\" y=\"-124.8\" font-family=\"Times,serif\" font-size=\"14.00\">*</text>\n</g>\n<!-- 135906099689504&#45;&gt;135906060622176* -->\n<g id=\"edge11\" class=\"edge\">\n<title>135906099689504&#45;&gt;135906060622176*</title>\n<path fill=\"none\" stroke=\"black\" d=\"M172.53,-165.44C181.84,-162.67 191.2,-159.67 200,-156.5 210.53,-152.71 221.75,-147.9 231.72,-143.33\"/>\n<polygon fill=\"black\" stroke=\"black\" points=\"233.25,-146.48 240.82,-139.07 230.28,-140.14 233.25,-146.48\"/>\n</g>\n<!-- 135906060619872 -->\n<g id=\"node2\" class=\"node\">\n<title>135906060619872</title>\n<polygon fill=\"none\" stroke=\"black\" points=\"2,-110.5 2,-146.5 198,-146.5 198,-110.5 2,-110.5\"/>\n<text text-anchor=\"middle\" x=\"17\" y=\"-124.8\" font-family=\"Times,serif\" font-size=\"14.00\">x1</text>\n<polyline fill=\"none\" stroke=\"black\" points=\"32,-110.5 32,-146.5 \"/>\n<text text-anchor=\"middle\" x=\"72\" y=\"-124.8\" font-family=\"Times,serif\" font-size=\"14.00\">data 2.0000</text>\n<polyline fill=\"none\" stroke=\"black\" points=\"112,-110.5 112,-146.5 \"/>\n<text text-anchor=\"middle\" x=\"155\" y=\"-124.8\" font-family=\"Times,serif\" font-size=\"14.00\">grad &#45;1.5000</text>\n</g>\n<!-- 135906060619872&#45;&gt;135906060622176* -->\n<g id=\"edge8\" class=\"edge\">\n<title>135906060619872&#45;&gt;135906060622176*</title>\n<path fill=\"none\" stroke=\"black\" d=\"M198.37,-128.5C208.05,-128.5 217.4,-128.5 225.8,-128.5\"/>\n<polygon fill=\"black\" stroke=\"black\" points=\"225.91,-132 235.91,-128.5 225.91,-125 225.91,-132\"/>\n</g>\n<!-- 135906060631200 -->\n<g id=\"node3\" class=\"node\">\n<title>135906060631200</title>\n<polygon fill=\"none\" stroke=\"black\" points=\"1382,-54.5 1382,-90.5 1567,-90.5 1567,-54.5 1382,-54.5\"/>\n<text text-anchor=\"middle\" x=\"1393.5\" y=\"-68.8\" font-family=\"Times,serif\" font-size=\"14.00\">o</text>\n<polyline fill=\"none\" stroke=\"black\" points=\"1405,-54.5 1405,-90.5 \"/>\n<text text-anchor=\"middle\" x=\"1445\" y=\"-68.8\" font-family=\"Times,serif\" font-size=\"14.00\">data 0.7071</text>\n<polyline fill=\"none\" stroke=\"black\" points=\"1485,-54.5 1485,-90.5 \"/>\n<text text-anchor=\"middle\" x=\"1526\" y=\"-68.8\" font-family=\"Times,serif\" font-size=\"14.00\">grad 1.0000</text>\n</g>\n<!-- 135906060631200tanh -->\n<g id=\"node4\" class=\"node\">\n<title>135906060631200tanh</title>\n<ellipse fill=\"none\" stroke=\"black\" cx=\"1319\" cy=\"-72.5\" rx=\"27\" ry=\"18\"/>\n<text text-anchor=\"middle\" x=\"1319\" y=\"-68.8\" font-family=\"Times,serif\" font-size=\"14.00\">tanh</text>\n</g>\n<!-- 135906060631200tanh&#45;&gt;135906060631200 -->\n<g id=\"edge1\" class=\"edge\">\n<title>135906060631200tanh&#45;&gt;135906060631200</title>\n<path fill=\"none\" stroke=\"black\" d=\"M1346.04,-72.5C1353.58,-72.5 1362.3,-72.5 1371.57,-72.5\"/>\n<polygon fill=\"black\" stroke=\"black\" points=\"1371.81,-76 1381.81,-72.5 1371.81,-69 1371.81,-76\"/>\n</g>\n<!-- 135906060629184 -->\n<g id=\"node5\" class=\"node\">\n<title>135906060629184</title>\n<polygon fill=\"none\" stroke=\"black\" points=\"328.5,-55.5 328.5,-91.5 543.5,-91.5 543.5,-55.5 328.5,-55.5\"/>\n<text text-anchor=\"middle\" x=\"355\" y=\"-69.8\" font-family=\"Times,serif\" font-size=\"14.00\">x2*w2</text>\n<polyline fill=\"none\" stroke=\"black\" points=\"381.5,-55.5 381.5,-91.5 \"/>\n<text text-anchor=\"middle\" x=\"421.5\" y=\"-69.8\" font-family=\"Times,serif\" font-size=\"14.00\">data 0.0000</text>\n<polyline fill=\"none\" stroke=\"black\" points=\"461.5,-55.5 461.5,-91.5 \"/>\n<text text-anchor=\"middle\" x=\"502.5\" y=\"-69.8\" font-family=\"Times,serif\" font-size=\"14.00\">grad 0.5000</text>\n</g>\n<!-- 135906060630384+ -->\n<g id=\"node15\" class=\"node\">\n<title>135906060630384+</title>\n<ellipse fill=\"none\" stroke=\"black\" cx=\"609\" cy=\"-100.5\" rx=\"27\" ry=\"18\"/>\n<text text-anchor=\"middle\" x=\"609\" y=\"-96.8\" font-family=\"Times,serif\" font-size=\"14.00\">+</text>\n</g>\n<!-- 135906060629184&#45;&gt;135906060630384+ -->\n<g id=\"edge13\" class=\"edge\">\n<title>135906060629184&#45;&gt;135906060630384+</title>\n<path fill=\"none\" stroke=\"black\" d=\"M543.84,-90.37C554.01,-91.98 563.76,-93.51 572.44,-94.89\"/>\n<polygon fill=\"black\" stroke=\"black\" points=\"572.05,-98.37 582.47,-96.47 573.14,-91.45 572.05,-98.37\"/>\n</g>\n<!-- 135906060629184* -->\n<g id=\"node6\" class=\"node\">\n<title>135906060629184*</title>\n<ellipse fill=\"none\" stroke=\"black\" cx=\"263\" cy=\"-73.5\" rx=\"27\" ry=\"18\"/>\n<text text-anchor=\"middle\" x=\"263\" y=\"-69.8\" font-family=\"Times,serif\" font-size=\"14.00\">*</text>\n</g>\n<!-- 135906060629184*&#45;&gt;135906060629184 -->\n<g id=\"edge2\" class=\"edge\">\n<title>135906060629184*&#45;&gt;135906060629184</title>\n<path fill=\"none\" stroke=\"black\" d=\"M290.34,-73.5C298.51,-73.5 308.08,-73.5 318.36,-73.5\"/>\n<polygon fill=\"black\" stroke=\"black\" points=\"318.39,-77 328.39,-73.5 318.39,-70 318.39,-77\"/>\n</g>\n<!-- 135906060630768 -->\n<g id=\"node7\" class=\"node\">\n<title>135906060630768</title>\n<polygon fill=\"none\" stroke=\"black\" points=\"1071,-54.5 1071,-90.5 1256,-90.5 1256,-54.5 1071,-54.5\"/>\n<text text-anchor=\"middle\" x=\"1082.5\" y=\"-68.8\" font-family=\"Times,serif\" font-size=\"14.00\">n</text>\n<polyline fill=\"none\" stroke=\"black\" points=\"1094,-54.5 1094,-90.5 \"/>\n<text text-anchor=\"middle\" x=\"1134\" y=\"-68.8\" font-family=\"Times,serif\" font-size=\"14.00\">data 0.8814</text>\n<polyline fill=\"none\" stroke=\"black\" points=\"1174,-54.5 1174,-90.5 \"/>\n<text text-anchor=\"middle\" x=\"1215\" y=\"-68.8\" font-family=\"Times,serif\" font-size=\"14.00\">grad 0.5000</text>\n</g>\n<!-- 135906060630768&#45;&gt;135906060631200tanh -->\n<g id=\"edge10\" class=\"edge\">\n<title>135906060630768&#45;&gt;135906060631200tanh</title>\n<path fill=\"none\" stroke=\"black\" d=\"M1256.01,-72.5C1265.01,-72.5 1273.74,-72.5 1281.66,-72.5\"/>\n<polygon fill=\"black\" stroke=\"black\" points=\"1281.91,-76 1291.91,-72.5 1281.91,-69 1281.91,-76\"/>\n</g>\n<!-- 135906060630768+ -->\n<g id=\"node8\" class=\"node\">\n<title>135906060630768+</title>\n<ellipse fill=\"none\" stroke=\"black\" cx=\"1008\" cy=\"-72.5\" rx=\"27\" ry=\"18\"/>\n<text text-anchor=\"middle\" x=\"1008\" y=\"-68.8\" font-family=\"Times,serif\" font-size=\"14.00\">+</text>\n</g>\n<!-- 135906060630768+&#45;&gt;135906060630768 -->\n<g id=\"edge3\" class=\"edge\">\n<title>135906060630768+&#45;&gt;135906060630768</title>\n<path fill=\"none\" stroke=\"black\" d=\"M1035.04,-72.5C1042.58,-72.5 1051.3,-72.5 1060.57,-72.5\"/>\n<polygon fill=\"black\" stroke=\"black\" points=\"1060.81,-76 1070.81,-72.5 1060.81,-69 1060.81,-76\"/>\n</g>\n<!-- 135906099687680 -->\n<g id=\"node9\" class=\"node\">\n<title>135906099687680</title>\n<polygon fill=\"none\" stroke=\"black\" points=\"4,-55.5 4,-91.5 196,-91.5 196,-55.5 4,-55.5\"/>\n<text text-anchor=\"middle\" x=\"19\" y=\"-69.8\" font-family=\"Times,serif\" font-size=\"14.00\">x2</text>\n<polyline fill=\"none\" stroke=\"black\" points=\"34,-55.5 34,-91.5 \"/>\n<text text-anchor=\"middle\" x=\"74\" y=\"-69.8\" font-family=\"Times,serif\" font-size=\"14.00\">data 0.0000</text>\n<polyline fill=\"none\" stroke=\"black\" points=\"114,-55.5 114,-91.5 \"/>\n<text text-anchor=\"middle\" x=\"155\" y=\"-69.8\" font-family=\"Times,serif\" font-size=\"14.00\">grad 0.5000</text>\n</g>\n<!-- 135906099687680&#45;&gt;135906060629184* -->\n<g id=\"edge14\" class=\"edge\">\n<title>135906099687680&#45;&gt;135906060629184*</title>\n<path fill=\"none\" stroke=\"black\" d=\"M196.05,-73.5C206.52,-73.5 216.65,-73.5 225.71,-73.5\"/>\n<polygon fill=\"black\" stroke=\"black\" points=\"225.79,-77 235.79,-73.5 225.79,-70 225.79,-77\"/>\n</g>\n<!-- 135906060620544 -->\n<g id=\"node10\" class=\"node\">\n<title>135906060620544</title>\n<polygon fill=\"none\" stroke=\"black\" points=\"2.5,-0.5 2.5,-36.5 197.5,-36.5 197.5,-0.5 2.5,-0.5\"/>\n<text text-anchor=\"middle\" x=\"19\" y=\"-14.8\" font-family=\"Times,serif\" font-size=\"14.00\">w2</text>\n<polyline fill=\"none\" stroke=\"black\" points=\"35.5,-0.5 35.5,-36.5 \"/>\n<text text-anchor=\"middle\" x=\"75.5\" y=\"-14.8\" font-family=\"Times,serif\" font-size=\"14.00\">data 1.0000</text>\n<polyline fill=\"none\" stroke=\"black\" points=\"115.5,-0.5 115.5,-36.5 \"/>\n<text text-anchor=\"middle\" x=\"156.5\" y=\"-14.8\" font-family=\"Times,serif\" font-size=\"14.00\">grad 0.0000</text>\n</g>\n<!-- 135906060620544&#45;&gt;135906060629184* -->\n<g id=\"edge6\" class=\"edge\">\n<title>135906060620544&#45;&gt;135906060629184*</title>\n<path fill=\"none\" stroke=\"black\" d=\"M169.28,-36.5C179.65,-39.61 190.16,-42.98 200,-46.5 210.28,-50.17 221.28,-54.74 231.11,-59.07\"/>\n<polygon fill=\"black\" stroke=\"black\" points=\"229.93,-62.37 240.48,-63.27 232.79,-55.99 229.93,-62.37\"/>\n</g>\n<!-- 135906060621120 -->\n<g id=\"node11\" class=\"node\">\n<title>135906060621120</title>\n<polygon fill=\"none\" stroke=\"black\" points=\"716,-27.5 716,-63.5 901,-63.5 901,-27.5 716,-27.5\"/>\n<text text-anchor=\"middle\" x=\"727.5\" y=\"-41.8\" font-family=\"Times,serif\" font-size=\"14.00\">b</text>\n<polyline fill=\"none\" stroke=\"black\" points=\"739,-27.5 739,-63.5 \"/>\n<text text-anchor=\"middle\" x=\"779\" y=\"-41.8\" font-family=\"Times,serif\" font-size=\"14.00\">data 6.8814</text>\n<polyline fill=\"none\" stroke=\"black\" points=\"819,-27.5 819,-63.5 \"/>\n<text text-anchor=\"middle\" x=\"860\" y=\"-41.8\" font-family=\"Times,serif\" font-size=\"14.00\">grad 0.5000</text>\n</g>\n<!-- 135906060621120&#45;&gt;135906060630768+ -->\n<g id=\"edge9\" class=\"edge\">\n<title>135906060621120&#45;&gt;135906060630768+</title>\n<path fill=\"none\" stroke=\"black\" d=\"M901.02,-58.01C926,-61.43 951.59,-64.93 971.37,-67.63\"/>\n<polygon fill=\"black\" stroke=\"black\" points=\"971.05,-71.12 981.43,-69.01 972,-64.18 971.05,-71.12\"/>\n</g>\n<!-- 135906060622176 -->\n<g id=\"node12\" class=\"node\">\n<title>135906060622176</title>\n<polygon fill=\"none\" stroke=\"black\" points=\"326,-110.5 326,-146.5 546,-146.5 546,-110.5 326,-110.5\"/>\n<text text-anchor=\"middle\" x=\"352.5\" y=\"-124.8\" font-family=\"Times,serif\" font-size=\"14.00\">x1*w1</text>\n<polyline fill=\"none\" stroke=\"black\" points=\"379,-110.5 379,-146.5 \"/>\n<text text-anchor=\"middle\" x=\"421.5\" y=\"-124.8\" font-family=\"Times,serif\" font-size=\"14.00\">data &#45;6.0000</text>\n<polyline fill=\"none\" stroke=\"black\" points=\"464,-110.5 464,-146.5 \"/>\n<text text-anchor=\"middle\" x=\"505\" y=\"-124.8\" font-family=\"Times,serif\" font-size=\"14.00\">grad 0.5000</text>\n</g>\n<!-- 135906060622176&#45;&gt;135906060630384+ -->\n<g id=\"edge7\" class=\"edge\">\n<title>135906060622176&#45;&gt;135906060630384+</title>\n<path fill=\"none\" stroke=\"black\" d=\"M546.27,-110.61C555.64,-109.07 564.6,-107.61 572.65,-106.29\"/>\n<polygon fill=\"black\" stroke=\"black\" points=\"573.35,-109.72 582.65,-104.65 572.22,-102.81 573.35,-109.72\"/>\n</g>\n<!-- 135906060622176*&#45;&gt;135906060622176 -->\n<g id=\"edge4\" class=\"edge\">\n<title>135906060622176*&#45;&gt;135906060622176</title>\n<path fill=\"none\" stroke=\"black\" d=\"M290.34,-128.5C297.77,-128.5 306.37,-128.5 315.6,-128.5\"/>\n<polygon fill=\"black\" stroke=\"black\" points=\"315.84,-132 325.84,-128.5 315.84,-125 315.84,-132\"/>\n</g>\n<!-- 135906060630384 -->\n<g id=\"node14\" class=\"node\">\n<title>135906060630384</title>\n<polygon fill=\"none\" stroke=\"black\" points=\"672,-82.5 672,-118.5 945,-118.5 945,-82.5 672,-82.5\"/>\n<text text-anchor=\"middle\" x=\"725\" y=\"-96.8\" font-family=\"Times,serif\" font-size=\"14.00\">x1*w1 + x2*w2</text>\n<polyline fill=\"none\" stroke=\"black\" points=\"778,-82.5 778,-118.5 \"/>\n<text text-anchor=\"middle\" x=\"820.5\" y=\"-96.8\" font-family=\"Times,serif\" font-size=\"14.00\">data &#45;6.0000</text>\n<polyline fill=\"none\" stroke=\"black\" points=\"863,-82.5 863,-118.5 \"/>\n<text text-anchor=\"middle\" x=\"904\" y=\"-96.8\" font-family=\"Times,serif\" font-size=\"14.00\">grad 0.5000</text>\n</g>\n<!-- 135906060630384&#45;&gt;135906060630768+ -->\n<g id=\"edge12\" class=\"edge\">\n<title>135906060630384&#45;&gt;135906060630768+</title>\n<path fill=\"none\" stroke=\"black\" d=\"M936.53,-82.49C949.09,-80.71 960.99,-79.02 971.3,-77.56\"/>\n<polygon fill=\"black\" stroke=\"black\" points=\"972.03,-80.99 981.44,-76.12 971.05,-74.06 972.03,-80.99\"/>\n</g>\n<!-- 135906060630384+&#45;&gt;135906060630384 -->\n<g id=\"edge5\" class=\"edge\">\n<title>135906060630384+&#45;&gt;135906060630384</title>\n<path fill=\"none\" stroke=\"black\" d=\"M636.23,-100.5C643.7,-100.5 652.41,-100.5 661.87,-100.5\"/>\n<polygon fill=\"black\" stroke=\"black\" points=\"661.98,-104 671.98,-100.5 661.98,-97 661.98,-104\"/>\n</g>\n</g>\n</svg>\n",
            "text/plain": [
              "<graphviz.graphs.Digraph at 0x7b9b187753c0>"
            ]
          },
          "metadata": {},
          "execution_count": 11
        }
      ]
    },
    {
      "cell_type": "code",
      "source": [
        "# inputs x1,x2\n",
        "x1 = Value(2.0, label='x1')\n",
        "x2 = Value(0.0, label='x2')\n",
        "# weights w1,w2\n",
        "w1 = Value(-3.0, label='w1')\n",
        "w2 = Value(1.0, label='w2')\n",
        "# bias of the neuron\n",
        "b = Value(6.8813735870195432, label='b')\n",
        "# x1*w1 + x2*w2 + b\n",
        "x1w1 = x1*w1; x1w1.label = 'x1*w1'\n",
        "x2w2 = x2*w2; x2w2.label = 'x2*w2'\n",
        "x1w1x2w2 = x1w1 + x2w2; x1w1x2w2.label = 'x1*w1 + x2*w2'\n",
        "n = x1w1x2w2 + b; n.label = 'n'\n",
        "e = (2 * n).exp()\n",
        "o = (e - 1) / (e + 1)\n",
        "o.label = 'o'\n",
        "o.backward()\n",
        "draw_dot(o)"
      ],
      "metadata": {
        "id": "rkrcJQFaj83-",
        "outputId": "b75854f8-ff95-4f46-ca18-406dc56c7620",
        "colab": {
          "base_uri": "https://localhost:8080/",
          "height": 356
        }
      },
      "execution_count": 12,
      "outputs": [
        {
          "output_type": "execute_result",
          "data": {
            "image/svg+xml": "<?xml version=\"1.0\" encoding=\"UTF-8\" standalone=\"no\"?>\n<!DOCTYPE svg PUBLIC \"-//W3C//DTD SVG 1.1//EN\"\n \"http://www.w3.org/Graphics/SVG/1.1/DTD/svg11.dtd\">\n<!-- Generated by graphviz version 2.43.0 (0)\n -->\n<!-- Title: %3 Pages: 1 -->\n<svg width=\"2944pt\" height=\"236pt\"\n viewBox=\"0.00 0.00 2944.00 236.00\" xmlns=\"http://www.w3.org/2000/svg\" xmlns:xlink=\"http://www.w3.org/1999/xlink\">\n<g id=\"graph0\" class=\"graph\" transform=\"scale(1 1) rotate(0) translate(4 232)\">\n<title>%3</title>\n<polygon fill=\"white\" stroke=\"transparent\" points=\"-4,4 -4,-232 2940,-232 2940,4 -4,4\"/>\n<!-- 135906060395104 -->\n<g id=\"node1\" class=\"node\">\n<title>135906060395104</title>\n<polygon fill=\"none\" stroke=\"black\" points=\"326,-55.5 326,-91.5 546,-91.5 546,-55.5 326,-55.5\"/>\n<text text-anchor=\"middle\" x=\"352.5\" y=\"-69.8\" font-family=\"Times,serif\" font-size=\"14.00\">x1*w1</text>\n<polyline fill=\"none\" stroke=\"black\" points=\"379,-55.5 379,-91.5 \"/>\n<text text-anchor=\"middle\" x=\"421.5\" y=\"-69.8\" font-family=\"Times,serif\" font-size=\"14.00\">data &#45;6.0000</text>\n<polyline fill=\"none\" stroke=\"black\" points=\"464,-55.5 464,-91.5 \"/>\n<text text-anchor=\"middle\" x=\"505\" y=\"-69.8\" font-family=\"Times,serif\" font-size=\"14.00\">grad 0.5000</text>\n</g>\n<!-- 135906060620256+ -->\n<g id=\"node27\" class=\"node\">\n<title>135906060620256+</title>\n<ellipse fill=\"none\" stroke=\"black\" cx=\"609\" cy=\"-100.5\" rx=\"27\" ry=\"18\"/>\n<text text-anchor=\"middle\" x=\"609\" y=\"-96.8\" font-family=\"Times,serif\" font-size=\"14.00\">+</text>\n</g>\n<!-- 135906060395104&#45;&gt;135906060620256+ -->\n<g id=\"edge28\" class=\"edge\">\n<title>135906060395104&#45;&gt;135906060620256+</title>\n<path fill=\"none\" stroke=\"black\" d=\"M546.27,-90.75C555.64,-92.23 564.6,-93.65 572.65,-94.92\"/>\n<polygon fill=\"black\" stroke=\"black\" points=\"572.23,-98.4 582.65,-96.5 573.32,-91.48 572.23,-98.4\"/>\n</g>\n<!-- 135906060395104* -->\n<g id=\"node2\" class=\"node\">\n<title>135906060395104*</title>\n<ellipse fill=\"none\" stroke=\"black\" cx=\"263\" cy=\"-73.5\" rx=\"27\" ry=\"18\"/>\n<text text-anchor=\"middle\" x=\"263\" y=\"-69.8\" font-family=\"Times,serif\" font-size=\"14.00\">*</text>\n</g>\n<!-- 135906060395104*&#45;&gt;135906060395104 -->\n<g id=\"edge1\" class=\"edge\">\n<title>135906060395104*&#45;&gt;135906060395104</title>\n<path fill=\"none\" stroke=\"black\" d=\"M290.34,-73.5C297.77,-73.5 306.37,-73.5 315.6,-73.5\"/>\n<polygon fill=\"black\" stroke=\"black\" points=\"315.84,-77 325.84,-73.5 315.84,-70 315.84,-77\"/>\n</g>\n<!-- 135906060618144 -->\n<g id=\"node3\" class=\"node\">\n<title>135906060618144</title>\n<polygon fill=\"none\" stroke=\"black\" points=\"1690.5,-191.5 1690.5,-227.5 1876.5,-227.5 1876.5,-191.5 1690.5,-191.5\"/>\n<text text-anchor=\"middle\" x=\"1700.5\" y=\"-205.8\" font-family=\"Times,serif\" font-size=\"14.00\"> </text>\n<polyline fill=\"none\" stroke=\"black\" points=\"1710.5,-191.5 1710.5,-227.5 \"/>\n<text text-anchor=\"middle\" x=\"1750.5\" y=\"-205.8\" font-family=\"Times,serif\" font-size=\"14.00\">data 1.0000</text>\n<polyline fill=\"none\" stroke=\"black\" points=\"1790.5,-191.5 1790.5,-227.5 \"/>\n<text text-anchor=\"middle\" x=\"1833.5\" y=\"-205.8\" font-family=\"Times,serif\" font-size=\"14.00\">grad &#45;0.1036</text>\n</g>\n<!-- 135906060621024+ -->\n<g id=\"node11\" class=\"node\">\n<title>135906060621024+</title>\n<ellipse fill=\"none\" stroke=\"black\" cx=\"1940\" cy=\"-181.5\" rx=\"27\" ry=\"18\"/>\n<text text-anchor=\"middle\" x=\"1940\" y=\"-177.8\" font-family=\"Times,serif\" font-size=\"14.00\">+</text>\n</g>\n<!-- 135906060618144&#45;&gt;135906060621024+ -->\n<g id=\"edge18\" class=\"edge\">\n<title>135906060618144&#45;&gt;135906060621024+</title>\n<path fill=\"none\" stroke=\"black\" d=\"M1876.6,-192.81C1886.15,-191.08 1895.37,-189.41 1903.68,-187.9\"/>\n<polygon fill=\"black\" stroke=\"black\" points=\"1904.43,-191.32 1913.65,-186.09 1903.18,-184.43 1904.43,-191.32\"/>\n</g>\n<!-- 135906060626064 -->\n<g id=\"node4\" class=\"node\">\n<title>135906060626064</title>\n<polygon fill=\"none\" stroke=\"black\" points=\"2225,-108.5 2225,-144.5 2407,-144.5 2407,-108.5 2225,-108.5\"/>\n<text text-anchor=\"middle\" x=\"2235\" y=\"-122.8\" font-family=\"Times,serif\" font-size=\"14.00\"> </text>\n<polyline fill=\"none\" stroke=\"black\" points=\"2245,-108.5 2245,-144.5 \"/>\n<text text-anchor=\"middle\" x=\"2285\" y=\"-122.8\" font-family=\"Times,serif\" font-size=\"14.00\">data 4.8284</text>\n<polyline fill=\"none\" stroke=\"black\" points=\"2325,-108.5 2325,-144.5 \"/>\n<text text-anchor=\"middle\" x=\"2366\" y=\"-122.8\" font-family=\"Times,serif\" font-size=\"14.00\">grad 0.1464</text>\n</g>\n<!-- 135906060619632* -->\n<g id=\"node19\" class=\"node\">\n<title>135906060619632*</title>\n<ellipse fill=\"none\" stroke=\"black\" cx=\"2688\" cy=\"-153.5\" rx=\"27\" ry=\"18\"/>\n<text text-anchor=\"middle\" x=\"2688\" y=\"-149.8\" font-family=\"Times,serif\" font-size=\"14.00\">*</text>\n</g>\n<!-- 135906060626064&#45;&gt;135906060619632* -->\n<g id=\"edge11\" class=\"edge\">\n<title>135906060626064&#45;&gt;135906060619632*</title>\n<path fill=\"none\" stroke=\"black\" d=\"M2407.04,-133.07C2485.41,-138.79 2594.98,-146.79 2650.96,-150.87\"/>\n<polygon fill=\"black\" stroke=\"black\" points=\"2650.87,-154.37 2661.1,-151.61 2651.38,-147.39 2650.87,-154.37\"/>\n</g>\n<!-- 135906060626064+ -->\n<g id=\"node5\" class=\"node\">\n<title>135906060626064+</title>\n<ellipse fill=\"none\" stroke=\"black\" cx=\"1940\" cy=\"-126.5\" rx=\"27\" ry=\"18\"/>\n<text text-anchor=\"middle\" x=\"1940\" y=\"-122.8\" font-family=\"Times,serif\" font-size=\"14.00\">+</text>\n</g>\n<!-- 135906060626064+&#45;&gt;135906060626064 -->\n<g id=\"edge2\" class=\"edge\">\n<title>135906060626064+&#45;&gt;135906060626064</title>\n<path fill=\"none\" stroke=\"black\" d=\"M1967,-126.5C2017.46,-126.5 2131.06,-126.5 2214.81,-126.5\"/>\n<polygon fill=\"black\" stroke=\"black\" points=\"2214.87,-130 2224.87,-126.5 2214.87,-123 2214.87,-130\"/>\n</g>\n<!-- 135906060621456 -->\n<g id=\"node6\" class=\"node\">\n<title>135906060621456</title>\n<polygon fill=\"none\" stroke=\"black\" points=\"2443,-161.5 2443,-197.5 2625,-197.5 2625,-161.5 2443,-161.5\"/>\n<text text-anchor=\"middle\" x=\"2453\" y=\"-175.8\" font-family=\"Times,serif\" font-size=\"14.00\"> </text>\n<polyline fill=\"none\" stroke=\"black\" points=\"2463,-161.5 2463,-197.5 \"/>\n<text text-anchor=\"middle\" x=\"2503\" y=\"-175.8\" font-family=\"Times,serif\" font-size=\"14.00\">data 0.1464</text>\n<polyline fill=\"none\" stroke=\"black\" points=\"2543,-161.5 2543,-197.5 \"/>\n<text text-anchor=\"middle\" x=\"2584\" y=\"-175.8\" font-family=\"Times,serif\" font-size=\"14.00\">grad 4.8284</text>\n</g>\n<!-- 135906060621456&#45;&gt;135906060619632* -->\n<g id=\"edge20\" class=\"edge\">\n<title>135906060621456&#45;&gt;135906060619632*</title>\n<path fill=\"none\" stroke=\"black\" d=\"M2625.18,-164.08C2634.42,-162.49 2643.38,-160.96 2651.47,-159.58\"/>\n<polygon fill=\"black\" stroke=\"black\" points=\"2652.29,-162.99 2661.56,-157.85 2651.11,-156.09 2652.29,-162.99\"/>\n</g>\n<!-- 135906060621456**&#45;1 -->\n<g id=\"node7\" class=\"node\">\n<title>135906060621456**&#45;1</title>\n<ellipse fill=\"none\" stroke=\"black\" cx=\"2316\" cy=\"-181.5\" rx=\"27\" ry=\"18\"/>\n<text text-anchor=\"middle\" x=\"2316\" y=\"-177.8\" font-family=\"Times,serif\" font-size=\"14.00\">**&#45;1</text>\n</g>\n<!-- 135906060621456**&#45;1&#45;&gt;135906060621456 -->\n<g id=\"edge3\" class=\"edge\">\n<title>135906060621456**&#45;1&#45;&gt;135906060621456</title>\n<path fill=\"none\" stroke=\"black\" d=\"M2343.05,-181.26C2365.53,-181.05 2399.48,-180.74 2432.5,-180.43\"/>\n<polygon fill=\"black\" stroke=\"black\" points=\"2432.74,-183.93 2442.7,-180.34 2432.67,-176.93 2432.74,-183.93\"/>\n</g>\n<!-- 135906060623040 -->\n<g id=\"node8\" class=\"node\">\n<title>135906060623040</title>\n<polygon fill=\"none\" stroke=\"black\" points=\"1382,-136.5 1382,-172.5 1564,-172.5 1564,-136.5 1382,-136.5\"/>\n<text text-anchor=\"middle\" x=\"1392\" y=\"-150.8\" font-family=\"Times,serif\" font-size=\"14.00\"> </text>\n<polyline fill=\"none\" stroke=\"black\" points=\"1402,-136.5 1402,-172.5 \"/>\n<text text-anchor=\"middle\" x=\"1442\" y=\"-150.8\" font-family=\"Times,serif\" font-size=\"14.00\">data 1.7627</text>\n<polyline fill=\"none\" stroke=\"black\" points=\"1482,-136.5 1482,-172.5 \"/>\n<text text-anchor=\"middle\" x=\"1523\" y=\"-150.8\" font-family=\"Times,serif\" font-size=\"14.00\">grad 0.2500</text>\n</g>\n<!-- 135906060623664exp -->\n<g id=\"node13\" class=\"node\">\n<title>135906060623664exp</title>\n<ellipse fill=\"none\" stroke=\"black\" cx=\"1627\" cy=\"-154.5\" rx=\"27\" ry=\"18\"/>\n<text text-anchor=\"middle\" x=\"1627\" y=\"-150.8\" font-family=\"Times,serif\" font-size=\"14.00\">exp</text>\n</g>\n<!-- 135906060623040&#45;&gt;135906060623664exp -->\n<g id=\"edge22\" class=\"edge\">\n<title>135906060623040&#45;&gt;135906060623664exp</title>\n<path fill=\"none\" stroke=\"black\" d=\"M1564.18,-154.5C1573.14,-154.5 1581.83,-154.5 1589.73,-154.5\"/>\n<polygon fill=\"black\" stroke=\"black\" points=\"1589.96,-158 1599.96,-154.5 1589.96,-151 1589.96,-158\"/>\n</g>\n<!-- 135906060623040* -->\n<g id=\"node9\" class=\"node\">\n<title>135906060623040*</title>\n<ellipse fill=\"none\" stroke=\"black\" cx=\"1319\" cy=\"-154.5\" rx=\"27\" ry=\"18\"/>\n<text text-anchor=\"middle\" x=\"1319\" y=\"-150.8\" font-family=\"Times,serif\" font-size=\"14.00\">*</text>\n</g>\n<!-- 135906060623040*&#45;&gt;135906060623040 -->\n<g id=\"edge4\" class=\"edge\">\n<title>135906060623040*&#45;&gt;135906060623040</title>\n<path fill=\"none\" stroke=\"black\" d=\"M1346.13,-154.5C1353.67,-154.5 1362.39,-154.5 1371.64,-154.5\"/>\n<polygon fill=\"black\" stroke=\"black\" points=\"1371.87,-158 1381.87,-154.5 1371.87,-151 1371.87,-158\"/>\n</g>\n<!-- 135906060621024 -->\n<g id=\"node10\" class=\"node\">\n<title>135906060621024</title>\n<polygon fill=\"none\" stroke=\"black\" points=\"2003,-163.5 2003,-199.5 2189,-199.5 2189,-163.5 2003,-163.5\"/>\n<text text-anchor=\"middle\" x=\"2013\" y=\"-177.8\" font-family=\"Times,serif\" font-size=\"14.00\"> </text>\n<polyline fill=\"none\" stroke=\"black\" points=\"2023,-163.5 2023,-199.5 \"/>\n<text text-anchor=\"middle\" x=\"2063\" y=\"-177.8\" font-family=\"Times,serif\" font-size=\"14.00\">data 6.8284</text>\n<polyline fill=\"none\" stroke=\"black\" points=\"2103,-163.5 2103,-199.5 \"/>\n<text text-anchor=\"middle\" x=\"2146\" y=\"-177.8\" font-family=\"Times,serif\" font-size=\"14.00\">grad &#45;0.1036</text>\n</g>\n<!-- 135906060621024&#45;&gt;135906060621456**&#45;1 -->\n<g id=\"edge24\" class=\"edge\">\n<title>135906060621024&#45;&gt;135906060621456**&#45;1</title>\n<path fill=\"none\" stroke=\"black\" d=\"M2189.14,-181.5C2220.72,-181.5 2254.24,-181.5 2278.74,-181.5\"/>\n<polygon fill=\"black\" stroke=\"black\" points=\"2278.98,-185 2288.98,-181.5 2278.98,-178 2278.98,-185\"/>\n</g>\n<!-- 135906060621024+&#45;&gt;135906060621024 -->\n<g id=\"edge5\" class=\"edge\">\n<title>135906060621024+&#45;&gt;135906060621024</title>\n<path fill=\"none\" stroke=\"black\" d=\"M1967.12,-181.5C1974.62,-181.5 1983.29,-181.5 1992.5,-181.5\"/>\n<polygon fill=\"black\" stroke=\"black\" points=\"1992.69,-185 2002.69,-181.5 1992.69,-178 1992.69,-185\"/>\n</g>\n<!-- 135906060623664 -->\n<g id=\"node12\" class=\"node\">\n<title>135906060623664</title>\n<polygon fill=\"none\" stroke=\"black\" points=\"1692.5,-136.5 1692.5,-172.5 1874.5,-172.5 1874.5,-136.5 1692.5,-136.5\"/>\n<text text-anchor=\"middle\" x=\"1702.5\" y=\"-150.8\" font-family=\"Times,serif\" font-size=\"14.00\"> </text>\n<polyline fill=\"none\" stroke=\"black\" points=\"1712.5,-136.5 1712.5,-172.5 \"/>\n<text text-anchor=\"middle\" x=\"1752.5\" y=\"-150.8\" font-family=\"Times,serif\" font-size=\"14.00\">data 5.8284</text>\n<polyline fill=\"none\" stroke=\"black\" points=\"1792.5,-136.5 1792.5,-172.5 \"/>\n<text text-anchor=\"middle\" x=\"1833.5\" y=\"-150.8\" font-family=\"Times,serif\" font-size=\"14.00\">grad 0.0429</text>\n</g>\n<!-- 135906060623664&#45;&gt;135906060626064+ -->\n<g id=\"edge25\" class=\"edge\">\n<title>135906060623664&#45;&gt;135906060626064+</title>\n<path fill=\"none\" stroke=\"black\" d=\"M1874.82,-138.13C1885.07,-136.27 1895.01,-134.47 1903.88,-132.87\"/>\n<polygon fill=\"black\" stroke=\"black\" points=\"1904.54,-136.3 1913.75,-131.08 1903.29,-129.42 1904.54,-136.3\"/>\n</g>\n<!-- 135906060623664&#45;&gt;135906060621024+ -->\n<g id=\"edge26\" class=\"edge\">\n<title>135906060623664&#45;&gt;135906060621024+</title>\n<path fill=\"none\" stroke=\"black\" d=\"M1874.82,-170.28C1885.07,-172.08 1895.01,-173.81 1903.88,-175.36\"/>\n<polygon fill=\"black\" stroke=\"black\" points=\"1903.3,-178.81 1913.75,-177.09 1904.5,-171.92 1903.3,-178.81\"/>\n</g>\n<!-- 135906060623664exp&#45;&gt;135906060623664 -->\n<g id=\"edge6\" class=\"edge\">\n<title>135906060623664exp&#45;&gt;135906060623664</title>\n<path fill=\"none\" stroke=\"black\" d=\"M1654.21,-154.5C1662.34,-154.5 1671.85,-154.5 1681.94,-154.5\"/>\n<polygon fill=\"black\" stroke=\"black\" points=\"1682.19,-158 1692.19,-154.5 1682.19,-151 1682.19,-158\"/>\n</g>\n<!-- 135906060631920 -->\n<g id=\"node14\" class=\"node\">\n<title>135906060631920</title>\n<polygon fill=\"none\" stroke=\"black\" points=\"1072.5,-164.5 1072.5,-200.5 1254.5,-200.5 1254.5,-164.5 1072.5,-164.5\"/>\n<text text-anchor=\"middle\" x=\"1082.5\" y=\"-178.8\" font-family=\"Times,serif\" font-size=\"14.00\"> </text>\n<polyline fill=\"none\" stroke=\"black\" points=\"1092.5,-164.5 1092.5,-200.5 \"/>\n<text text-anchor=\"middle\" x=\"1132.5\" y=\"-178.8\" font-family=\"Times,serif\" font-size=\"14.00\">data 2.0000</text>\n<polyline fill=\"none\" stroke=\"black\" points=\"1172.5,-164.5 1172.5,-200.5 \"/>\n<text text-anchor=\"middle\" x=\"1213.5\" y=\"-178.8\" font-family=\"Times,serif\" font-size=\"14.00\">grad 0.2203</text>\n</g>\n<!-- 135906060631920&#45;&gt;135906060623040* -->\n<g id=\"edge23\" class=\"edge\">\n<title>135906060631920&#45;&gt;135906060623040*</title>\n<path fill=\"none\" stroke=\"black\" d=\"M1254.68,-166.05C1264.61,-164.24 1274.23,-162.48 1282.84,-160.91\"/>\n<polygon fill=\"black\" stroke=\"black\" points=\"1283.6,-164.33 1292.81,-159.09 1282.35,-157.45 1283.6,-164.33\"/>\n</g>\n<!-- 135906060393808 -->\n<g id=\"node15\" class=\"node\">\n<title>135906060393808</title>\n<polygon fill=\"none\" stroke=\"black\" points=\"716,-137.5 716,-173.5 901,-173.5 901,-137.5 716,-137.5\"/>\n<text text-anchor=\"middle\" x=\"727.5\" y=\"-151.8\" font-family=\"Times,serif\" font-size=\"14.00\">b</text>\n<polyline fill=\"none\" stroke=\"black\" points=\"739,-137.5 739,-173.5 \"/>\n<text text-anchor=\"middle\" x=\"779\" y=\"-151.8\" font-family=\"Times,serif\" font-size=\"14.00\">data 6.8814</text>\n<polyline fill=\"none\" stroke=\"black\" points=\"819,-137.5 819,-173.5 \"/>\n<text text-anchor=\"middle\" x=\"860\" y=\"-151.8\" font-family=\"Times,serif\" font-size=\"14.00\">grad 0.5000</text>\n</g>\n<!-- 135906060631968+ -->\n<g id=\"node23\" class=\"node\">\n<title>135906060631968+</title>\n<ellipse fill=\"none\" stroke=\"black\" cx=\"1008\" cy=\"-127.5\" rx=\"27\" ry=\"18\"/>\n<text text-anchor=\"middle\" x=\"1008\" y=\"-123.8\" font-family=\"Times,serif\" font-size=\"14.00\">+</text>\n</g>\n<!-- 135906060393808&#45;&gt;135906060631968+ -->\n<g id=\"edge19\" class=\"edge\">\n<title>135906060393808&#45;&gt;135906060631968+</title>\n<path fill=\"none\" stroke=\"black\" d=\"M901.02,-142.52C926,-138.98 951.59,-135.36 971.37,-132.55\"/>\n<polygon fill=\"black\" stroke=\"black\" points=\"972.03,-135.99 981.43,-131.12 971.04,-129.06 972.03,-135.99\"/>\n</g>\n<!-- 135906060392272 -->\n<g id=\"node16\" class=\"node\">\n<title>135906060392272</title>\n<polygon fill=\"none\" stroke=\"black\" points=\"328.5,-110.5 328.5,-146.5 543.5,-146.5 543.5,-110.5 328.5,-110.5\"/>\n<text text-anchor=\"middle\" x=\"355\" y=\"-124.8\" font-family=\"Times,serif\" font-size=\"14.00\">x2*w2</text>\n<polyline fill=\"none\" stroke=\"black\" points=\"381.5,-110.5 381.5,-146.5 \"/>\n<text text-anchor=\"middle\" x=\"421.5\" y=\"-124.8\" font-family=\"Times,serif\" font-size=\"14.00\">data 0.0000</text>\n<polyline fill=\"none\" stroke=\"black\" points=\"461.5,-110.5 461.5,-146.5 \"/>\n<text text-anchor=\"middle\" x=\"502.5\" y=\"-124.8\" font-family=\"Times,serif\" font-size=\"14.00\">grad 0.5000</text>\n</g>\n<!-- 135906060392272&#45;&gt;135906060620256+ -->\n<g id=\"edge16\" class=\"edge\">\n<title>135906060392272&#45;&gt;135906060620256+</title>\n<path fill=\"none\" stroke=\"black\" d=\"M543.84,-111.01C554.01,-109.34 563.76,-107.74 572.44,-106.32\"/>\n<polygon fill=\"black\" stroke=\"black\" points=\"573.17,-109.75 582.47,-104.68 572.04,-102.84 573.17,-109.75\"/>\n</g>\n<!-- 135906060392272* -->\n<g id=\"node17\" class=\"node\">\n<title>135906060392272*</title>\n<ellipse fill=\"none\" stroke=\"black\" cx=\"263\" cy=\"-128.5\" rx=\"27\" ry=\"18\"/>\n<text text-anchor=\"middle\" x=\"263\" y=\"-124.8\" font-family=\"Times,serif\" font-size=\"14.00\">*</text>\n</g>\n<!-- 135906060392272*&#45;&gt;135906060392272 -->\n<g id=\"edge7\" class=\"edge\">\n<title>135906060392272*&#45;&gt;135906060392272</title>\n<path fill=\"none\" stroke=\"black\" d=\"M290.34,-128.5C298.51,-128.5 308.08,-128.5 318.36,-128.5\"/>\n<polygon fill=\"black\" stroke=\"black\" points=\"318.39,-132 328.39,-128.5 318.39,-125 318.39,-132\"/>\n</g>\n<!-- 135906060619632 -->\n<g id=\"node18\" class=\"node\">\n<title>135906060619632</title>\n<polygon fill=\"none\" stroke=\"black\" points=\"2751,-135.5 2751,-171.5 2936,-171.5 2936,-135.5 2751,-135.5\"/>\n<text text-anchor=\"middle\" x=\"2762.5\" y=\"-149.8\" font-family=\"Times,serif\" font-size=\"14.00\">o</text>\n<polyline fill=\"none\" stroke=\"black\" points=\"2774,-135.5 2774,-171.5 \"/>\n<text text-anchor=\"middle\" x=\"2814\" y=\"-149.8\" font-family=\"Times,serif\" font-size=\"14.00\">data 0.7071</text>\n<polyline fill=\"none\" stroke=\"black\" points=\"2854,-135.5 2854,-171.5 \"/>\n<text text-anchor=\"middle\" x=\"2895\" y=\"-149.8\" font-family=\"Times,serif\" font-size=\"14.00\">grad 1.0000</text>\n</g>\n<!-- 135906060619632*&#45;&gt;135906060619632 -->\n<g id=\"edge8\" class=\"edge\">\n<title>135906060619632*&#45;&gt;135906060619632</title>\n<path fill=\"none\" stroke=\"black\" d=\"M2715.04,-153.5C2722.58,-153.5 2731.3,-153.5 2740.57,-153.5\"/>\n<polygon fill=\"black\" stroke=\"black\" points=\"2740.81,-157 2750.81,-153.5 2740.81,-150 2740.81,-157\"/>\n</g>\n<!-- 135906060393856 -->\n<g id=\"node20\" class=\"node\">\n<title>135906060393856</title>\n<polygon fill=\"none\" stroke=\"black\" points=\"2,-55.5 2,-91.5 198,-91.5 198,-55.5 2,-55.5\"/>\n<text text-anchor=\"middle\" x=\"17\" y=\"-69.8\" font-family=\"Times,serif\" font-size=\"14.00\">x1</text>\n<polyline fill=\"none\" stroke=\"black\" points=\"32,-55.5 32,-91.5 \"/>\n<text text-anchor=\"middle\" x=\"72\" y=\"-69.8\" font-family=\"Times,serif\" font-size=\"14.00\">data 2.0000</text>\n<polyline fill=\"none\" stroke=\"black\" points=\"112,-55.5 112,-91.5 \"/>\n<text text-anchor=\"middle\" x=\"155\" y=\"-69.8\" font-family=\"Times,serif\" font-size=\"14.00\">grad &#45;1.5000</text>\n</g>\n<!-- 135906060393856&#45;&gt;135906060395104* -->\n<g id=\"edge15\" class=\"edge\">\n<title>135906060393856&#45;&gt;135906060395104*</title>\n<path fill=\"none\" stroke=\"black\" d=\"M198.37,-73.5C208.05,-73.5 217.4,-73.5 225.8,-73.5\"/>\n<polygon fill=\"black\" stroke=\"black\" points=\"225.91,-77 235.91,-73.5 225.91,-70 225.91,-77\"/>\n</g>\n<!-- 135906060625248 -->\n<g id=\"node21\" class=\"node\">\n<title>135906060625248</title>\n<polygon fill=\"none\" stroke=\"black\" points=\"1690,-81.5 1690,-117.5 1877,-117.5 1877,-81.5 1690,-81.5\"/>\n<text text-anchor=\"middle\" x=\"1700\" y=\"-95.8\" font-family=\"Times,serif\" font-size=\"14.00\"> </text>\n<polyline fill=\"none\" stroke=\"black\" points=\"1710,-81.5 1710,-117.5 \"/>\n<text text-anchor=\"middle\" x=\"1752.5\" y=\"-95.8\" font-family=\"Times,serif\" font-size=\"14.00\">data &#45;1.0000</text>\n<polyline fill=\"none\" stroke=\"black\" points=\"1795,-81.5 1795,-117.5 \"/>\n<text text-anchor=\"middle\" x=\"1836\" y=\"-95.8\" font-family=\"Times,serif\" font-size=\"14.00\">grad 0.1464</text>\n</g>\n<!-- 135906060625248&#45;&gt;135906060626064+ -->\n<g id=\"edge27\" class=\"edge\">\n<title>135906060625248&#45;&gt;135906060626064+</title>\n<path fill=\"none\" stroke=\"black\" d=\"M1877.05,-115.67C1886.34,-117.3 1895.33,-118.87 1903.44,-120.29\"/>\n<polygon fill=\"black\" stroke=\"black\" points=\"1903.1,-123.78 1913.55,-122.05 1904.3,-116.88 1903.1,-123.78\"/>\n</g>\n<!-- 135906060631968 -->\n<g id=\"node22\" class=\"node\">\n<title>135906060631968</title>\n<polygon fill=\"none\" stroke=\"black\" points=\"1071,-109.5 1071,-145.5 1256,-145.5 1256,-109.5 1071,-109.5\"/>\n<text text-anchor=\"middle\" x=\"1082.5\" y=\"-123.8\" font-family=\"Times,serif\" font-size=\"14.00\">n</text>\n<polyline fill=\"none\" stroke=\"black\" points=\"1094,-109.5 1094,-145.5 \"/>\n<text text-anchor=\"middle\" x=\"1134\" y=\"-123.8\" font-family=\"Times,serif\" font-size=\"14.00\">data 0.8814</text>\n<polyline fill=\"none\" stroke=\"black\" points=\"1174,-109.5 1174,-145.5 \"/>\n<text text-anchor=\"middle\" x=\"1215\" y=\"-123.8\" font-family=\"Times,serif\" font-size=\"14.00\">grad 0.5000</text>\n</g>\n<!-- 135906060631968&#45;&gt;135906060623040* -->\n<g id=\"edge21\" class=\"edge\">\n<title>135906060631968&#45;&gt;135906060623040*</title>\n<path fill=\"none\" stroke=\"black\" d=\"M1256.01,-143.6C1265.49,-145.26 1274.66,-146.88 1282.9,-148.33\"/>\n<polygon fill=\"black\" stroke=\"black\" points=\"1282.36,-151.78 1292.81,-150.07 1283.57,-144.89 1282.36,-151.78\"/>\n</g>\n<!-- 135906060631968+&#45;&gt;135906060631968 -->\n<g id=\"edge9\" class=\"edge\">\n<title>135906060631968+&#45;&gt;135906060631968</title>\n<path fill=\"none\" stroke=\"black\" d=\"M1035.04,-127.5C1042.58,-127.5 1051.3,-127.5 1060.57,-127.5\"/>\n<polygon fill=\"black\" stroke=\"black\" points=\"1060.81,-131 1070.81,-127.5 1060.81,-124 1060.81,-131\"/>\n</g>\n<!-- 135906060393904 -->\n<g id=\"node24\" class=\"node\">\n<title>135906060393904</title>\n<polygon fill=\"none\" stroke=\"black\" points=\"4,-165.5 4,-201.5 196,-201.5 196,-165.5 4,-165.5\"/>\n<text text-anchor=\"middle\" x=\"19\" y=\"-179.8\" font-family=\"Times,serif\" font-size=\"14.00\">x2</text>\n<polyline fill=\"none\" stroke=\"black\" points=\"34,-165.5 34,-201.5 \"/>\n<text text-anchor=\"middle\" x=\"74\" y=\"-179.8\" font-family=\"Times,serif\" font-size=\"14.00\">data 0.0000</text>\n<polyline fill=\"none\" stroke=\"black\" points=\"114,-165.5 114,-201.5 \"/>\n<text text-anchor=\"middle\" x=\"155\" y=\"-179.8\" font-family=\"Times,serif\" font-size=\"14.00\">grad 0.5000</text>\n</g>\n<!-- 135906060393904&#45;&gt;135906060392272* -->\n<g id=\"edge12\" class=\"edge\">\n<title>135906060393904&#45;&gt;135906060392272*</title>\n<path fill=\"none\" stroke=\"black\" d=\"M172.53,-165.44C181.84,-162.67 191.2,-159.67 200,-156.5 210.53,-152.71 221.75,-147.9 231.72,-143.33\"/>\n<polygon fill=\"black\" stroke=\"black\" points=\"233.25,-146.48 240.82,-139.07 230.28,-140.14 233.25,-146.48\"/>\n</g>\n<!-- 135906060397504 -->\n<g id=\"node25\" class=\"node\">\n<title>135906060397504</title>\n<polygon fill=\"none\" stroke=\"black\" points=\"2.5,-110.5 2.5,-146.5 197.5,-146.5 197.5,-110.5 2.5,-110.5\"/>\n<text text-anchor=\"middle\" x=\"19\" y=\"-124.8\" font-family=\"Times,serif\" font-size=\"14.00\">w2</text>\n<polyline fill=\"none\" stroke=\"black\" points=\"35.5,-110.5 35.5,-146.5 \"/>\n<text text-anchor=\"middle\" x=\"75.5\" y=\"-124.8\" font-family=\"Times,serif\" font-size=\"14.00\">data 1.0000</text>\n<polyline fill=\"none\" stroke=\"black\" points=\"115.5,-110.5 115.5,-146.5 \"/>\n<text text-anchor=\"middle\" x=\"156.5\" y=\"-124.8\" font-family=\"Times,serif\" font-size=\"14.00\">grad 0.0000</text>\n</g>\n<!-- 135906060397504&#45;&gt;135906060392272* -->\n<g id=\"edge13\" class=\"edge\">\n<title>135906060397504&#45;&gt;135906060392272*</title>\n<path fill=\"none\" stroke=\"black\" d=\"M197.91,-128.5C207.65,-128.5 217.05,-128.5 225.52,-128.5\"/>\n<polygon fill=\"black\" stroke=\"black\" points=\"225.7,-132 235.7,-128.5 225.7,-125 225.7,-132\"/>\n</g>\n<!-- 135906060620256 -->\n<g id=\"node26\" class=\"node\">\n<title>135906060620256</title>\n<polygon fill=\"none\" stroke=\"black\" points=\"672,-82.5 672,-118.5 945,-118.5 945,-82.5 672,-82.5\"/>\n<text text-anchor=\"middle\" x=\"725\" y=\"-96.8\" font-family=\"Times,serif\" font-size=\"14.00\">x1*w1 + x2*w2</text>\n<polyline fill=\"none\" stroke=\"black\" points=\"778,-82.5 778,-118.5 \"/>\n<text text-anchor=\"middle\" x=\"820.5\" y=\"-96.8\" font-family=\"Times,serif\" font-size=\"14.00\">data &#45;6.0000</text>\n<polyline fill=\"none\" stroke=\"black\" points=\"863,-82.5 863,-118.5 \"/>\n<text text-anchor=\"middle\" x=\"904\" y=\"-96.8\" font-family=\"Times,serif\" font-size=\"14.00\">grad 0.5000</text>\n</g>\n<!-- 135906060620256&#45;&gt;135906060631968+ -->\n<g id=\"edge14\" class=\"edge\">\n<title>135906060620256&#45;&gt;135906060631968+</title>\n<path fill=\"none\" stroke=\"black\" d=\"M941.24,-118.51C952.12,-120 962.4,-121.4 971.45,-122.64\"/>\n<polygon fill=\"black\" stroke=\"black\" points=\"971.11,-126.13 981.49,-124.01 972.05,-119.19 971.11,-126.13\"/>\n</g>\n<!-- 135906060620256+&#45;&gt;135906060620256 -->\n<g id=\"edge10\" class=\"edge\">\n<title>135906060620256+&#45;&gt;135906060620256</title>\n<path fill=\"none\" stroke=\"black\" d=\"M636.23,-100.5C643.7,-100.5 652.41,-100.5 661.87,-100.5\"/>\n<polygon fill=\"black\" stroke=\"black\" points=\"661.98,-104 671.98,-100.5 661.98,-97 661.98,-104\"/>\n</g>\n<!-- 135906060397552 -->\n<g id=\"node28\" class=\"node\">\n<title>135906060397552</title>\n<polygon fill=\"none\" stroke=\"black\" points=\"0,-0.5 0,-36.5 200,-36.5 200,-0.5 0,-0.5\"/>\n<text text-anchor=\"middle\" x=\"16.5\" y=\"-14.8\" font-family=\"Times,serif\" font-size=\"14.00\">w1</text>\n<polyline fill=\"none\" stroke=\"black\" points=\"33,-0.5 33,-36.5 \"/>\n<text text-anchor=\"middle\" x=\"75.5\" y=\"-14.8\" font-family=\"Times,serif\" font-size=\"14.00\">data &#45;3.0000</text>\n<polyline fill=\"none\" stroke=\"black\" points=\"118,-0.5 118,-36.5 \"/>\n<text text-anchor=\"middle\" x=\"159\" y=\"-14.8\" font-family=\"Times,serif\" font-size=\"14.00\">grad 1.0000</text>\n</g>\n<!-- 135906060397552&#45;&gt;135906060395104* -->\n<g id=\"edge17\" class=\"edge\">\n<title>135906060397552&#45;&gt;135906060395104*</title>\n<path fill=\"none\" stroke=\"black\" d=\"M172.53,-36.56C181.84,-39.33 191.2,-42.33 200,-45.5 210.53,-49.29 221.75,-54.1 231.72,-58.67\"/>\n<polygon fill=\"black\" stroke=\"black\" points=\"230.28,-61.86 240.82,-62.93 233.25,-55.52 230.28,-61.86\"/>\n</g>\n</g>\n</svg>\n",
            "text/plain": [
              "<graphviz.graphs.Digraph at 0x7b9b18777a60>"
            ]
          },
          "metadata": {},
          "execution_count": 12
        }
      ]
    },
    {
      "cell_type": "code",
      "source": [
        "import torch\n",
        "\n",
        "x1 = torch.Tensor([2.0]).double();  x1.requires_grad = True\n",
        "x2 = torch.Tensor([0.0]).double();  x2.requires_grad = True\n",
        "w1 = torch.Tensor([-3.0]).double(); w1.requires_grad = True\n",
        "w2 = torch.Tensor([1.0]).double();  w2.requires_grad = True\n",
        "b = torch.Tensor([6.8813735870195432]).double()  ; b.requires_grad = True\n",
        "n = (x1 * w1) + (x2 * w2) + b\n",
        "o = torch.tanh(n)\n",
        "\n",
        "print(o.data.item())\n",
        "o.backward()\n",
        "\n",
        "print('---')\n",
        "print('x2', x2.grad.item())\n",
        "print('w2', w2.grad.item())\n",
        "print('x1', x1.grad.item())\n",
        "print('w1', w1.grad.item())"
      ],
      "metadata": {
        "id": "ZqNIWobyk8yy",
        "outputId": "87089cfe-3d00-48f0-d5fc-7196ab745498",
        "colab": {
          "base_uri": "https://localhost:8080/"
        }
      },
      "execution_count": 13,
      "outputs": [
        {
          "output_type": "stream",
          "name": "stdout",
          "text": [
            "0.7071066904050358\n",
            "---\n",
            "x2 0.5000001283844369\n",
            "w2 0.0\n",
            "x1 -1.5000003851533106\n",
            "w1 1.0000002567688737\n"
          ]
        }
      ]
    },
    {
      "cell_type": "code",
      "source": [
        "import random\n",
        "class Neuron:\n",
        "  def __init__(self, nin):\n",
        "    self.w = [Value(random.uniform(-1,1)) for _ in range(nin)]\n",
        "    self.b = Value(random.uniform(-1,1))\n",
        "\n",
        "\n",
        "  def __call__(self, x):\n",
        "    activation = sum((wi * xi for wi, xi in zip(self.w, x)), self.b)\n",
        "    out = activation.tanh()\n",
        "    return out\n",
        "\n",
        "  def parameters(self):\n",
        "    return self.w + [self.b]\n",
        "\n",
        "\n",
        "class Layer:\n",
        "\n",
        "  def __init__(self, nin, nout):\n",
        "    self.neurons = [Neuron(nin) for _ in range(nout)]\n",
        "\n",
        "  def __call__(self, x):\n",
        "    outs = [n(x) for n in self.neurons]\n",
        "    # return outs\n",
        "    return outs[0] if len(outs) == 1 else outs\n",
        "\n",
        "  def parameters(self):\n",
        "    return [p for neuron in self.neurons for p in neuron.parameters()]\n",
        "\n",
        "class MLP:\n",
        "\n",
        "  def __init__(self, nin, nouts):\n",
        "    sz = [nin] + nouts\n",
        "    self.layers = [Layer(sz[i], sz[i + 1]) for i in range(len(nouts))]\n",
        "\n",
        "  def __call__(self, x):\n",
        "    for layer in self.layers:\n",
        "      x = layer(x)\n",
        "    return x\n",
        "\n",
        "  def parameters(self):\n",
        "    return [p for layer in self.layers for p in layer.parameters()]\n",
        ""
      ],
      "metadata": {
        "id": "PEcGRgkBmvrd"
      },
      "execution_count": 89,
      "outputs": []
    },
    {
      "cell_type": "code",
      "source": [
        "x = [2.0, 3.0, -1.0]\n",
        "mlp = MLP(3, [4, 4, 1])\n",
        "mlp(x)"
      ],
      "metadata": {
        "id": "Pygjw23Mabeq",
        "outputId": "81729f48-2c8f-42ad-fb8e-a533784e3813",
        "colab": {
          "base_uri": "https://localhost:8080/"
        }
      },
      "execution_count": 97,
      "outputs": [
        {
          "output_type": "execute_result",
          "data": {
            "text/plain": [
              "Value(data=-0.4055763248122469)"
            ]
          },
          "metadata": {},
          "execution_count": 97
        }
      ]
    },
    {
      "cell_type": "code",
      "source": [
        "len(mlp.parameters())"
      ],
      "metadata": {
        "id": "b1R2E1Zbk1GO",
        "outputId": "7bbfb8c3-3165-4beb-9296-2441cc29e82b",
        "colab": {
          "base_uri": "https://localhost:8080/"
        }
      },
      "execution_count": 98,
      "outputs": [
        {
          "output_type": "execute_result",
          "data": {
            "text/plain": [
              "41"
            ]
          },
          "metadata": {},
          "execution_count": 98
        }
      ]
    },
    {
      "cell_type": "code",
      "source": [
        "#Testing out micrograd back propagation\n",
        "xs = [\n",
        "  [2.0, 3.0, -1.0],\n",
        "  [3.0, -1.0, 0.5],\n",
        "  [0.5, 1.0, 1.0],\n",
        "  [1.0, 1.0, -1.0],\n",
        "]\n",
        "ys = [1.0, -1.0, -1.0, 1.0] # desired targets"
      ],
      "metadata": {
        "id": "v-KyK5r6aUrh"
      },
      "execution_count": 102,
      "outputs": []
    },
    {
      "cell_type": "code",
      "source": [
        "for k in range(100):\n",
        "  # forward pass\n",
        "  ypred = [mlp(xs[i]) for i in range(len(xs))]\n",
        "  loss = sum((yout - ygt)**2 for ygt, yout in zip(ys, ypred))\n",
        "\n",
        "  # backward pass\n",
        "  for p in mlp.parameters():\n",
        "    p.grad = 0.0\n",
        "  loss.backward()\n",
        "\n",
        "  # update\n",
        "  for p in mlp.parameters():\n",
        "    p.data += -0.1 * p.grad\n",
        "\n",
        "  print(k, loss.data)"
      ],
      "metadata": {
        "id": "yP2TKf7ymScr",
        "outputId": "30965ade-049c-4d9c-9280-90e8416b32a7",
        "colab": {
          "base_uri": "https://localhost:8080/"
        }
      },
      "execution_count": 103,
      "outputs": [
        {
          "output_type": "stream",
          "name": "stdout",
          "text": [
            "0 0.008068498644638553\n",
            "1 0.007977263494373537\n",
            "2 0.00788799211123668\n",
            "3 0.007800622810217522\n",
            "4 0.007715096437601227\n",
            "5 0.007631356243317929\n",
            "6 0.007549347760901359\n",
            "7 0.007469018694534649\n",
            "8 0.007390318812702375\n",
            "9 0.007313199848003213\n",
            "10 0.00723761540271336\n",
            "11 0.00716352085971992\n",
            "12 0.00709087329847338\n",
            "13 0.007019631415632931\n",
            "14 0.006949755450103387\n",
            "15 0.006881207112183381\n",
            "16 0.006813949516565467\n",
            "17 0.006747947118946709\n",
            "18 0.0066831656560258895\n",
            "19 0.0066195720886783015\n",
            "20 0.006557134548115172\n",
            "21 0.0064958222848460765\n",
            "22 0.006435605620276973\n",
            "23 0.006376455900786408\n",
            "24 0.006318345454134283\n",
            "25 0.006261247548065807\n",
            "26 0.006205136350984058\n",
            "27 0.006149986894571223\n",
            "28 0.006095775038247938\n",
            "29 0.00604247743536563\n",
            "30 0.0059900715010352615\n",
            "31 0.005938535381500649\n",
            "32 0.005887847924970892\n",
            "33 0.005837988653831894\n",
            "34 0.005788937738161477\n",
            "35 0.00574067597047805\n",
            "36 0.005693184741655733\n",
            "37 0.0056464460179449245\n",
            "38 0.005600442319038395\n",
            "39 0.005555156697129273\n",
            "40 0.00551057271690838\n",
            "41 0.005466674436452601\n",
            "42 0.0054234463889583796\n",
            "43 0.005380873565277225\n",
            "44 0.005338941397212679\n",
            "45 0.005297635741540312\n",
            "46 0.005256942864714478\n",
            "47 0.005216849428228331\n",
            "48 0.005177342474593967\n",
            "49 0.005138409413913239\n",
            "50 0.005100038011010097\n",
            "51 0.005062216373097162\n",
            "52 0.005024932937951514\n",
            "53 0.004988176462574685\n",
            "54 0.004951936012314605\n",
            "55 0.004916200950427279\n",
            "56 0.004880960928058002\n",
            "57 0.0048462058746225126\n",
            "58 0.004811925988569391\n",
            "59 0.004778111728506804\n",
            "60 0.004744753804676536\n",
            "61 0.0047118431707596055\n",
            "62 0.004679371015998981\n",
            "63 0.004647328757624685\n",
            "64 0.004615708033568275\n",
            "65 0.004584500695453745\n",
            "66 0.004553698801852753\n",
            "67 0.004523294611792625\n",
            "68 0.004493280578506287\n",
            "69 0.004463649343413638\n",
            "70 0.004434393730324453\n",
            "71 0.004405506739853323\n",
            "72 0.004376981544037922\n",
            "73 0.004348811481151652\n",
            "74 0.004320990050702949\n",
            "75 0.004293510908613249\n",
            "76 0.0042663678625661314\n",
            "77 0.004239554867521077\n",
            "78 0.0042130660213845076\n",
            "79 0.004186895560832126\n",
            "80 0.0041610378572764116\n",
            "81 0.0041354874129732894\n",
            "82 0.004110238857262392\n",
            "83 0.004085286942935976\n",
            "84 0.004060626542730846\n",
            "85 0.004036252645938937\n",
            "86 0.0040121603551317685\n",
            "87 0.003988344882994068\n",
            "88 0.003964801549262954\n",
            "89 0.00394152577776792\n",
            "90 0.0039185130935683425\n",
            "91 0.0038957591201844127\n",
            "92 0.003873259576918282\n",
            "93 0.0038510102762617077\n",
            "94 0.0038290071213871496\n",
            "95 0.0038072461037192288\n",
            "96 0.003785723300583549\n",
            "97 0.0037644348729297867\n",
            "98 0.0037433770631268622\n",
            "99 0.0037225461928270046\n"
          ]
        }
      ]
    },
    {
      "cell_type": "code",
      "source": [
        "ypred"
      ],
      "metadata": {
        "id": "8HPzovlUns_c",
        "outputId": "94f38ef8-2fca-4d31-b09e-b2e1cd581099",
        "colab": {
          "base_uri": "https://localhost:8080/"
        }
      },
      "execution_count": 104,
      "outputs": [
        {
          "output_type": "execute_result",
          "data": {
            "text/plain": [
              "[Value(data=0.9742013205307906),\n",
              " Value(data=-0.9828615959119856),\n",
              " Value(data=-0.9591210128049641),\n",
              " Value(data=0.966952188549073)]"
            ]
          },
          "metadata": {},
          "execution_count": 104
        }
      ]
    }
  ],
  "metadata": {
    "kernelspec": {
      "display_name": "base",
      "language": "python",
      "name": "python3"
    },
    "language_info": {
      "codemirror_mode": {
        "name": "ipython",
        "version": 3
      },
      "file_extension": ".py",
      "mimetype": "text/x-python",
      "name": "python",
      "nbconvert_exporter": "python",
      "pygments_lexer": "ipython3",
      "version": "3.11.5"
    },
    "colab": {
      "provenance": [],
      "include_colab_link": true
    }
  },
  "nbformat": 4,
  "nbformat_minor": 0
}